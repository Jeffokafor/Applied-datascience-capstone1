{
    "cells": [
        {
            "cell_type": "markdown",
            "metadata": {
                "collapsed": true
            },
            "source": "# CAPSTONE PROJECT - The Battle of Neighborhoods (Week 1)"
        },
        {
            "cell_type": "markdown",
            "metadata": {},
            "source": "## Introduction / Business Problem"
        },
        {
            "cell_type": "code",
            "execution_count": 10,
            "metadata": {},
            "outputs": [
                {
                    "name": "stdout",
                    "output_type": "stream",
                    "text": "In this project I will be comparing two cities, which are Newyork city and Toronto city. \n\nThese two cities are known to be the financial capital of their country,with that status,\n\nI will try to find out how similar or dissimilar(different) these two cities are in terms \n\nof population, location and hotspots.\n"
                }
            ],
            "source": "print('In this project I will be comparing two cities, which are Newyork city and Toronto city. \\n')\nprint('These two cities are known to be the financial capital of their country,with that status,\\n')\nprint('I will try to find out how similar or dissimilar(different) these two cities are in terms \\n')\nprint('of population, location and hotspots.')"
        },
        {
            "cell_type": "code",
            "execution_count": null,
            "metadata": {},
            "outputs": [],
            "source": ""
        },
        {
            "cell_type": "markdown",
            "metadata": {},
            "source": "# DESCRIPTION DATA"
        },
        {
            "cell_type": "code",
            "execution_count": 9,
            "metadata": {},
            "outputs": [
                {
                    "name": "stdout",
                    "output_type": "stream",
                    "text": "To find out how sismilar or dissimilar Newyork City and Toronto City is, \n\nI will be using the Foursquare API. \n\nThis is a special location API that will help us to explore the most common venues, \n\nof both Newyork city and Toronto city. \n\nThen i will use the information received to show, \n\nClustering and Segmentation. Thereby revealing how sismilar or dissimilar, \n\nthis two cities are. \n\nPlease kindly join me in this journey of data exploration in Data Science. \n\nThank you!\n"
                }
            ],
            "source": "print('To find out how sismilar or dissimilar Newyork City and Toronto City is, \\n')\nprint('I will be using the Foursquare API. \\n')\nprint('This is a special location API that will help us to explore the most common venues, \\n')\nprint('of both Newyork city and Toronto city. \\n')\nprint('Then i will use the information received to show, \\n')\nprint('Clustering and Segmentation. Thereby revealing how sismilar or dissimilar, \\n')\nprint('this two cities are. \\n')\nprint('Please kindly join me in this journey of data exploration in Data Science. \\n')\nprint('Thank you!')"
        },
        {
            "cell_type": "code",
            "execution_count": null,
            "metadata": {},
            "outputs": [],
            "source": ""
        }
    ],
    "metadata": {
        "kernelspec": {
            "display_name": "Python 3.6",
            "language": "python",
            "name": "python3"
        },
        "language_info": {
            "codemirror_mode": {
                "name": "ipython",
                "version": 3
            },
            "file_extension": ".py",
            "mimetype": "text/x-python",
            "name": "python",
            "nbconvert_exporter": "python",
            "pygments_lexer": "ipython3",
            "version": "3.6.8"
        }
    },
    "nbformat": 4,
    "nbformat_minor": 1
}